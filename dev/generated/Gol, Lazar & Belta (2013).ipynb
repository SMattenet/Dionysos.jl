{
 "cells": [
  {
   "cell_type": "markdown",
   "source": [
    "# Example: Gol, Lazar and Belta (2013)\n",
    "\n",
    "This example reproduces parts of the numerical results of [3]. A similar example reproducing all results of [3] is available as a codeocean capsule in [4].\n",
    "\n",
    "This example was borrowed from [1, Example VIII.A] and tackles\n",
    "an optimal control for the hybrid system with state evolution governed by\n",
    "$$\n",
    "x(k+1) = \\begin{bmatrix} 1 & 1 \\\\ 0 & 1 \\end{bmatrix}x(k) + \\begin{bmatrix} 0.5 \\\\ 1.0 \\end{bmatrix} u(k)\n",
    "$$"
   ],
   "metadata": {}
  },
  {
   "cell_type": "markdown",
   "source": [
    "The goal is to take the state vector toward a target set **XT** by visiting one of the squares\n",
    "**A** or **B** and avoiding the obstacles **O1** and **O2**"
   ],
   "metadata": {}
  },
  {
   "cell_type": "markdown",
   "source": [
    "First, let us import [CDDLib](https://github.com/JuliaPolyhedra/CDDLib.jl),\n",
    "[GLPK](https://github.com/jump-dev/GLPK.jl), [OSQP](https://github.com/oxfordcontrol/OSQP.jl),\n",
    "[JuMP](https://github.com/jump-dev/JuMP.jl), [Pavito](https://github.com/jump-dev/Pavito.jl)\n",
    "and [Ipopt](https://github.com/jump-dev/Ipopt.jl)"
   ],
   "metadata": {}
  },
  {
   "outputs": [],
   "cell_type": "code",
   "source": [
    "import CDDLib\n",
    "import GLPK\n",
    "import OSQP\n",
    "using JuMP\n",
    "import Pavito\n",
    "import Cbc\n",
    "import Ipopt"
   ],
   "metadata": {},
   "execution_count": 1
  },
  {
   "cell_type": "markdown",
   "source": [
    "At this point we import Dionysos"
   ],
   "metadata": {}
  },
  {
   "outputs": [],
   "cell_type": "code",
   "source": [
    "using Dionysos"
   ],
   "metadata": {},
   "execution_count": 2
  },
  {
   "cell_type": "markdown",
   "source": [
    "And the file defining the hybrid system for this problem"
   ],
   "metadata": {}
  },
  {
   "outputs": [
    {
     "output_type": "execute_result",
     "data": {
      "text/plain": "gol_lazar_belta (generic function with 1 method)"
     },
     "metadata": {},
     "execution_count": 3
    }
   ],
   "cell_type": "code",
   "source": [
    "include(joinpath(dirname(dirname(pathof(Dionysos))), \"examples\", \"gol_lazar_belta.jl\"))"
   ],
   "metadata": {},
   "execution_count": 3
  },
  {
   "cell_type": "markdown",
   "source": [
    "Now we instantiate our system using the function provided by [gol\\_lazar\\_belta.jl](https://github.com/dionysos-dev/Dionysos.jl/blob/master/examples/gol_lazar_belta.jl)"
   ],
   "metadata": {}
  },
  {
   "outputs": [],
   "cell_type": "code",
   "source": [
    "system = gol_lazar_belta(CDDLib.Library(), Float64);"
   ],
   "metadata": {},
   "execution_count": 4
  },
  {
   "cell_type": "markdown",
   "source": [
    "Then, we define initial conditions (continuous and discrete states) to this system\n",
    "and set `N` as the search depth, i.e., the number of allowed time steps."
   ],
   "metadata": {}
  },
  {
   "outputs": [],
   "cell_type": "code",
   "source": [
    "x0 = [1.0, -6.0];\n",
    "q0 = 3;\n",
    "\n",
    "N = 11;"
   ],
   "metadata": {},
   "execution_count": 5
  },
  {
   "cell_type": "markdown",
   "source": [
    "We instantiate our Optimal Control Problem by defining the state and transition costs.\n",
    "Notice that Comment that `state_cost` is defined to be zero for each mode/discrete state\n",
    "of the system and the `transition_cost` is defined to be `u_1^2` which is defined by the\n",
    "quadratic form `u' * Q * u` with `Q = ones(1, 1)`."
   ],
   "metadata": {}
  },
  {
   "outputs": [],
   "cell_type": "code",
   "source": [
    "state_cost = Fill(ZeroFunction(), nmodes(system))\n",
    "transition_cost = QuadraticControlFunction(ones(1, 1))\n",
    "\n",
    "problem = OptimalControlProblem(\n",
    "    system,\n",
    "    q0, x0,\n",
    "    Fill(state_cost, N),\n",
    "    Fill(Fill(transition_cost, ntransitions(system)), N),\n",
    "    system.ext[:q_T],\n",
    "    N\n",
    ");"
   ],
   "metadata": {},
   "execution_count": 6
  },
  {
   "cell_type": "markdown",
   "source": [
    "Notice that we used `Fill` for all `N` time steps as we consider time-invariant costs.\n",
    "Finally, we select the method presented in [2] as our optimizer"
   ],
   "metadata": {}
  },
  {
   "outputs": [],
   "cell_type": "code",
   "source": [
    "qp_solver = optimizer_with_attributes(\n",
    "    OSQP.Optimizer,\n",
    "    \"eps_abs\" => 1e-8,\n",
    "    \"eps_rel\" => 1e-8,\n",
    "    \"max_iter\" => 100000,\n",
    "    MOI.Silent() => true\n",
    ");\n",
    "\n",
    "mip_solver = optimizer_with_attributes(\n",
    "    Cbc.Optimizer,\n",
    "    MOI.Silent() => true\n",
    ");\n",
    "\n",
    "cont_solver = optimizer_with_attributes(\n",
    "    Ipopt.Optimizer,\n",
    "    MOI.Silent() => true\n",
    ");\n",
    "\n",
    "miqp_solver = optimizer_with_attributes(\n",
    "    Pavito.Optimizer,\n",
    "    \"mip_solver\" => mip_solver,\n",
    "    \"cont_solver\" => cont_solver,\n",
    "    MOI.Silent() => true\n",
    ");\n",
    "\n",
    "\n",
    "algo = optimizer_with_attributes(BemporadMorari.Optimizer{Float64},\n",
    "    \"continuous_solver\" => qp_solver,\n",
    "    \"mixed_integer_solver\" => miqp_solver,\n",
    "    \"indicator\" => false,\n",
    "    \"log_level\" => 0\n",
    ");"
   ],
   "metadata": {},
   "execution_count": 7
  },
  {
   "cell_type": "markdown",
   "source": [
    "and use it to solve the given problem, with the help of the abstraction layer\n",
    "MathOptInterface provided by [JuMP](https://github.com/jump-dev/JuMP.jl)"
   ],
   "metadata": {}
  },
  {
   "outputs": [
    {
     "name": "stdout",
     "output_type": "stream",
     "text": [
      "\n",
      "******************************************************************************\n",
      "This program contains Ipopt, a library for large-scale nonlinear optimization.\n",
      " Ipopt is released as open source code under the Eclipse Public License (EPL).\n",
      "         For more information visit https://github.com/coin-or/Ipopt\n",
      "******************************************************************************\n",
      "\n",
      "┌ Warning: Infeasible NLP problem terminated with primal status: NEARLY_FEASIBLE_POINT. This cannot be as this NLP problem was feasible by design.\n",
      "└ @ Pavito /home/runner/.julia/packages/Pavito/H744k/src/algorithm.jl:428\n"
     ]
    }
   ],
   "cell_type": "code",
   "source": [
    "optimizer = MOI.instantiate(algo)\n",
    "MOI.set(optimizer, MOI.RawParameter(\"problem\"), problem)\n",
    "MOI.optimize!(optimizer)"
   ],
   "metadata": {},
   "execution_count": 8
  },
  {
   "cell_type": "markdown",
   "source": [
    "We check the solver time"
   ],
   "metadata": {}
  },
  {
   "outputs": [
    {
     "output_type": "execute_result",
     "data": {
      "text/plain": "7.887601852416992"
     },
     "metadata": {},
     "execution_count": 9
    }
   ],
   "cell_type": "code",
   "source": [
    "MOI.get(optimizer, MOI.SolveTime())"
   ],
   "metadata": {},
   "execution_count": 9
  },
  {
   "cell_type": "markdown",
   "source": [
    "the termination status"
   ],
   "metadata": {}
  },
  {
   "outputs": [
    {
     "output_type": "execute_result",
     "data": {
      "text/plain": "OPTIMAL::TerminationStatusCode = 1"
     },
     "metadata": {},
     "execution_count": 10
    }
   ],
   "cell_type": "code",
   "source": [
    "termination = MOI.get(optimizer, MOI.TerminationStatus())"
   ],
   "metadata": {},
   "execution_count": 10
  },
  {
   "cell_type": "markdown",
   "source": [
    "the objective value"
   ],
   "metadata": {}
  },
  {
   "outputs": [
    {
     "output_type": "execute_result",
     "data": {
      "text/plain": "11.385062952226304"
     },
     "metadata": {},
     "execution_count": 11
    }
   ],
   "cell_type": "code",
   "source": [
    "objective_value = MOI.get(optimizer, MOI.ObjectiveValue())"
   ],
   "metadata": {},
   "execution_count": 11
  },
  {
   "cell_type": "markdown",
   "source": [
    "and recover the corresponding continuous trajectory"
   ],
   "metadata": {}
  },
  {
   "outputs": [],
   "cell_type": "code",
   "source": [
    "xu = MOI.get(optimizer, ContinuousTrajectoryAttribute());"
   ],
   "metadata": {},
   "execution_count": 12
  },
  {
   "cell_type": "markdown",
   "source": [
    "A little bit of data visualization now:"
   ],
   "metadata": {}
  },
  {
   "outputs": [
    {
     "name": "stdout",
     "output_type": "stream",
     "text": [
      "glp_simplex: unable to recover undefined or non-optimal solution\n",
      "glp_simplex: unable to recover undefined or non-optimal solution\n",
      "glp_simplex: unable to recover undefined or non-optimal solution\n",
      "glp_simplex: unable to recover undefined or non-optimal solution\n",
      "glp_simplex: unable to recover undefined or non-optimal solution\n",
      "glp_simplex: unable to recover undefined or non-optimal solution\n",
      "glp_simplex: unable to recover undefined or non-optimal solution\n",
      "glp_simplex: unable to recover undefined or non-optimal solution\n",
      "glp_simplex: unable to recover undefined or non-optimal solution\n",
      "glp_simplex: unable to recover undefined or non-optimal solution\n",
      "glp_simplex: unable to recover undefined or non-optimal solution\n",
      "glp_simplex: unable to recover undefined or non-optimal solution\n",
      "glp_simplex: unable to recover undefined or non-optimal solution\n",
      "glp_simplex: unable to recover undefined or non-optimal solution\n",
      "glp_simplex: unable to recover undefined or non-optimal solution\n",
      "glp_simplex: unable to recover undefined or non-optimal solution\n",
      "glp_simplex: unable to recover undefined or non-optimal solution\n",
      "glp_simplex: unable to recover undefined or non-optimal solution\n",
      "glp_simplex: unable to recover undefined or non-optimal solution\n",
      "glp_simplex: unable to recover undefined or non-optimal solution\n",
      "glp_simplex: unable to recover undefined or non-optimal solution\n",
      "glp_simplex: unable to recover undefined or non-optimal solution\n",
      "glp_simplex: unable to recover undefined or non-optimal solution\n",
      "glp_simplex: unable to recover undefined or non-optimal solution\n",
      "glp_simplex: unable to recover undefined or non-optimal solution\n",
      "glp_simplex: unable to recover undefined or non-optimal solution\n",
      "glp_simplex: unable to recover undefined or non-optimal solution\n",
      "glp_simplex: unable to recover undefined or non-optimal solution\n",
      "glp_simplex: unable to recover undefined or non-optimal solution\n",
      "glp_simplex: unable to recover undefined or non-optimal solution\n",
      "glp_simplex: unable to recover undefined or non-optimal solution\n",
      "glp_simplex: unable to recover undefined or non-optimal solution\n",
      "glp_simplex: unable to recover undefined or non-optimal solution\n",
      "glp_simplex: unable to recover undefined or non-optimal solution\n",
      "glp_simplex: unable to recover undefined or non-optimal solution\n",
      "glp_simplex: unable to recover undefined or non-optimal solution\n",
      "glp_simplex: unable to recover undefined or non-optimal solution\n"
     ]
    },
    {
     "output_type": "execute_result",
     "data": {
      "text/plain": "PyPlot.Figure(PyObject <Figure size 640x480 with 1 Axes>)",
      "image/png": "[encoded data removed]"
     },
     "metadata": {},
     "execution_count": 13
    }
   ],
   "cell_type": "code",
   "source": [
    "using PyPlot\n",
    "using Colors\n",
    "\n",
    "##Auxiliary function for annotating\n",
    "function text_in_set_plot!(ax, po, t;  fillcolor = :white, linecolor = :black, fillalpha = 1)\n",
    "    ##solve finding center (other solvers? https://jump.dev/JuMP.jl/dev/installation/#Supported-solvers)\n",
    "    solver = optimizer_with_attributes(GLPK.Optimizer, \"presolve\" => GLPK.ON)\n",
    "    poly = matplotlib.patches.Polygon(get_ordered_vertices(po))\n",
    "    poly.set_facecolor(fillcolor)\n",
    "    poly.set_edgecolor(linecolor)\n",
    "    poly.set_alpha(fillalpha)\n",
    "    ax.add_patch(poly)\n",
    "\n",
    "    if t !== nothing\n",
    "        c, r = hchebyshevcenter(hrep(po), solver, verbose=0)\n",
    "        ax.annotate(t, c, ha=\"center\", va=\"center\")\n",
    "    end\n",
    "end\n",
    "\n",
    "##Initialize our canvas\n",
    "fig = PyPlot.figure()\n",
    "\n",
    "ax = PyPlot.axes(aspect = \"equal\")\n",
    "ax.set_xlim(-10.5,3)\n",
    "ax.set_ylim(-10.5,3)\n",
    "\n",
    "##Show the discrete modes\n",
    "for mode in states(system)\n",
    "    t = (system.ext[:q_T] in [mode, mode + 11]) ? \"XT\" : (mode == system.ext[:q_A] ? \"A\" : (mode == system.ext[:q_B] ? \"B\" :\n",
    "            mode <= 11 ? string(mode) : string(mode - 11)))\n",
    "    text_in_set_plot!(ax, stateset(system, mode), t, fillcolor = \"none\", linecolor = :black)\n",
    "end\n",
    "\n",
    "##Plot obstacles\n",
    "for i in eachindex(system.ext[:obstacles])\n",
    "    text_in_set_plot!(ax, system.ext[:obstacles][i], \"O$i\", fillcolor = :black, fillalpha = 0.1)\n",
    "end\n",
    "\n",
    "\n",
    "##Initial state\n",
    "ax.scatter([x0[1]], [x0[2]])\n",
    "ax.annotate(\"x0\", [x0[1], x0[2]-0.5], ha=\"center\", va=\"center\")\n",
    "\n",
    "##Split the vector into x1 and x2\n",
    "x1 = [xu.x[j][1] for j in eachindex(xu.x)]\n",
    "x2 = [xu.x[j][2] for j in eachindex(xu.x)]\n",
    "\n",
    "##Plot the trajectory\n",
    "ax.scatter(x1, x2)\n",
    "gcf()"
   ],
   "metadata": {},
   "execution_count": 13
  },
  {
   "cell_type": "markdown",
   "source": [
    "### References\n",
    "\n",
    "1. Gol, E. A., Lazar, M., & Belta, C. (2013). Language-guided controller synthesis for linear systems. IEEE Transactions on Automatic Control, 59(5), 1163-1176.\n",
    "1. Bemporad, A., & Morari, M. (1999). Control of systems integrating logic, dynamics, and constraints. Automatica, 35(3), 407-427.\n",
    "1. Legat B., Bouchat J., Jungers R. M. (2021). Abstraction-based branch and bound approach to Q-learning for hybrid optimal control. 3rd Annual Learning for Dynamics & Control Conference, 2021.\n",
    "1. Legat B., Bouchat J., Jungers R. M. (2021). Abstraction-based branch and bound approach to Q-learning for hybrid optimal control. https://www.codeocean.com/. https://doi.org/10.24433/CO.6650697.v1."
   ],
   "metadata": {}
  },
  {
   "cell_type": "markdown",
   "source": [
    "---\n",
    "\n",
    "*This notebook was generated using [Literate.jl](https://github.com/fredrikekre/Literate.jl).*"
   ],
   "metadata": {}
  }
 ],
 "nbformat_minor": 3,
 "metadata": {
  "language_info": {
   "file_extension": ".jl",
   "mimetype": "application/julia",
   "name": "julia",
   "version": "1.6.3"
  },
  "kernelspec": {
   "name": "julia-1.6",
   "display_name": "Julia 1.6.3",
   "language": "julia"
  }
 },
 "nbformat": 4
}
