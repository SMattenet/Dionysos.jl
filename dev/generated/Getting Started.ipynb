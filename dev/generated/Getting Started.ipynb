{
 "cells": [
  {
   "cell_type": "markdown",
   "source": [
    "# Getting Started\n",
    "\n",
    "\n",
    "In this file we will visit the basic functionalities provided by Dionysos for the optimal control of complex systems. In summary, the topics covered are\n",
    "- Grids and discretizations\n",
    "- Dynamical system declaration\n",
    "- Continuous and discrete state image mapping\n",
    "- Plotting\n",
    "\n",
    "First, let us import a few packages that are necessary to run this example."
   ],
   "metadata": {}
  },
  {
   "outputs": [],
   "cell_type": "code",
   "source": [
    "using Dionysos\n",
    "using StaticArrays\n",
    "using LinearAlgebra\n",
    "using PyPlot"
   ],
   "metadata": {},
   "execution_count": 1
  },
  {
   "cell_type": "markdown",
   "source": [
    "The main package [Dionysos](https://github.com/dionysos-dev/Dionysos.jl) provides most important data structures that we will need.\n",
    "Additionally  [StaticArrays](https://github.com/JuliaArrays/StaticArrays.jl) provides faster implementation of Arrays (which have static memory allocation),\n",
    "[LinearAlgebra](https://docs.julialang.org/en/v1/stdlib/LinearAlgebra/) allows us to perform some additional operations and [PyPlot](https://github.com/JuliaPy/PyPlot.jl) is\n",
    "important for data visualization."
   ],
   "metadata": {}
  },
  {
   "outputs": [
    {
     "output_type": "execute_result",
     "data": {
      "text/plain": "Main.##260.Plot"
     },
     "metadata": {},
     "execution_count": 2
    }
   ],
   "cell_type": "code",
   "source": [
    "include(\"../../../src/plotting.jl\")"
   ],
   "metadata": {},
   "execution_count": 2
  },
  {
   "cell_type": "markdown",
   "source": [
    "The submodule [plotting.jl](https://github.com/dionysos-dev/Dionysos.jl/blob/master/src/plotting.jl) has functions that will be useful for 2D-visualization of the functions that we are implementing."
   ],
   "metadata": {}
  },
  {
   "outputs": [],
   "cell_type": "code",
   "source": [
    "const AB = Dionysos.Abstraction;"
   ],
   "metadata": {},
   "execution_count": 3
  },
  {
   "cell_type": "markdown",
   "source": [
    "Additionally, we will short the [Abstraction](https://github.com/dionysos-dev/Dionysos.jl/blob/master/src/Abstraction/abstraction.jl) submodule as `AB`\n",
    "\n",
    "We use `HyperRectangle` to represent the boundary of the state space `rectX` and the input space `rectU`."
   ],
   "metadata": {}
  },
  {
   "outputs": [],
   "cell_type": "code",
   "source": [
    "rectX = AB.HyperRectangle(SVector(-2, -2), SVector(2, 2));\n",
    "rectU = AB.HyperRectangle(SVector(-5), SVector(5));"
   ],
   "metadata": {},
   "execution_count": 4
  },
  {
   "cell_type": "markdown",
   "source": [
    "A discretization of the state space is declared using the `GridFree` structure, which requires the definition of a center `x0` and\n",
    "a vector `h` of discretization steps in each direction."
   ],
   "metadata": {}
  },
  {
   "outputs": [],
   "cell_type": "code",
   "source": [
    "x0 = SVector(0.0, 0.0);\n",
    "h = SVector(1.0/5, 1.0/5);\n",
    "Xgrid = AB.GridFree(x0, h);"
   ],
   "metadata": {},
   "execution_count": 5
  },
  {
   "cell_type": "markdown",
   "source": [
    "`Xgrid` represents the state space grid and holds information of `x0` and `h`, but is not a collection of cells. Indeed, a cell can be efficiently represented by a tuple of `Int`, for instance 'pos', with which the corresponding cartesian position can be computed by `x0 + h .* pos` or using functions to be shown. In Dionysos, a set of cells is called a `Domain`\n",
    "and the `DomainList` structure is used to represent this set. In the following, `domainX` is defined as an empty `DomainList` over the grid `Xgrid` and the `add_set!`\n",
    "method is responsible for adding a set of cells to the `DomainList`"
   ],
   "metadata": {}
  },
  {
   "outputs": [],
   "cell_type": "code",
   "source": [
    "domainX = AB.DomainList(Xgrid);\n",
    "AB.add_set!(domainX, rectX, AB.INNER)"
   ],
   "metadata": {},
   "execution_count": 6
  },
  {
   "cell_type": "markdown",
   "source": [
    "In this last line of code, `add_set!` add all the cells of the grid `Xgrid` to the DomainList `domainX` that are contained in the HyperRectangle `rectX`\n",
    "Construction of the struct `DomainList` containing the feasible cells of the state-space.\n",
    "Note, we used `AB.INNER` to make sure to add cells entirely contained in the domain. If we would like to add also cells partially covered by a given\n",
    "HyperRectangle, `AB.OUTER` should be used instead."
   ],
   "metadata": {}
  },
  {
   "cell_type": "markdown",
   "source": [
    "Similarly, we define a discretization of the input-space on which the abstraction is based (origin `u0` and input-space discretization `h`):"
   ],
   "metadata": {}
  },
  {
   "outputs": [],
   "cell_type": "code",
   "source": [
    "u0 = SVector(0.0);\n",
    "h = SVector(1.0/5);\n",
    "Ugrid = AB.GridFree(u0, h);\n",
    "domainU = AB.DomainList(Ugrid);\n",
    "AB.add_set!(domainU, rectU, AB.INNER);"
   ],
   "metadata": {},
   "execution_count": 7
  },
  {
   "cell_type": "markdown",
   "source": [
    "Now we have to define our dynamical system. For the sake of simplicity, note that we consider a linear time-invariant dynamical system but the functions\n",
    "defining it allow the definition of a generic nonlinear and time-dependent system. We also define a step time `tstep` for discretizing the continuous-time dynamic.\n",
    "The parameters"
   ],
   "metadata": {}
  },
  {
   "outputs": [],
   "cell_type": "code",
   "source": [
    "tstep = 0.1;\n",
    "nsys=10; # Runge-Kutta pre-scaling\n",
    "\n",
    "\n",
    "A = SMatrix{2,2}(0.0, 1.0,\n",
    "                -3.0, 1.0);\n",
    "B = SMatrix{2,1}(0.0, 1.0);\n",
    "\n",
    "F_sys = let A = A\n",
    "    (x,u) -> A*x + B*u\n",
    "end;"
   ],
   "metadata": {},
   "execution_count": 8
  },
  {
   "cell_type": "markdown",
   "source": [
    "We also need to define a growth-bound function, which allows for the state-space discretization errors. For more details on growth bounds, please refer to [(Reissig, Weber, and Rungger, 2016)](https://arxiv.org/pdf/1503.03715v1.pdf)."
   ],
   "metadata": {}
  },
  {
   "outputs": [
    {
     "output_type": "execute_result",
     "data": {
      "text/plain": "#3 (generic function with 1 method)"
     },
     "metadata": {},
     "execution_count": 9
    }
   ],
   "cell_type": "code",
   "source": [
    "ngrowthbound=10; # Runge-Kutta pre-scaling\n",
    "A_diag = diagm(diag(A));\n",
    "A_abs = abs.(A) - abs.(A_diag) + A_diag\n",
    "L_growthbound = x -> abs.(A)"
   ],
   "metadata": {},
   "execution_count": 9
  },
  {
   "cell_type": "markdown",
   "source": [
    "Finally we define the bounds on the input noise `sysnoise` and for the measurement noise `measnoise` of the system"
   ],
   "metadata": {}
  },
  {
   "outputs": [],
   "cell_type": "code",
   "source": [
    "measnoise = SVector(0.0, 0.0);\n",
    "sysnoise = SVector(0.0, 0.0);"
   ],
   "metadata": {},
   "execution_count": 10
  },
  {
   "cell_type": "markdown",
   "source": [
    "And now the instantiation of the ControlSystem"
   ],
   "metadata": {}
  },
  {
   "outputs": [],
   "cell_type": "code",
   "source": [
    "contsys = AB.NewControlSystemGrowthRK4(tstep, F_sys, L_growthbound, sysnoise,\n",
    "                                       measnoise, nsys, ngrowthbound);"
   ],
   "metadata": {},
   "execution_count": 11
  },
  {
   "cell_type": "markdown",
   "source": [
    "With that in hand, we can now proceed to the construction of a symbolic model of our system"
   ],
   "metadata": {}
  },
  {
   "outputs": [],
   "cell_type": "code",
   "source": [
    "symmodel = AB.NewSymbolicModelListList(domainX, domainU);"
   ],
   "metadata": {},
   "execution_count": 12
  },
  {
   "cell_type": "markdown",
   "source": [
    "The method `compute_symmodel_from_controlsystem!` builds the transitions of the symbolic control system based on the provided domains and the dynamics\n",
    "defined in `contsys`"
   ],
   "metadata": {}
  },
  {
   "outputs": [
    {
     "name": "stdout",
     "output_type": "stream",
     "text": [
      "compute_symmodel_from_controlsystem! started\n",
      "compute_symmodel_from_controlsystem! terminated with success: 68817 transitions created\n"
     ]
    }
   ],
   "cell_type": "code",
   "source": [
    "AB.compute_symmodel_from_controlsystem!(symmodel, contsys)"
   ],
   "metadata": {},
   "execution_count": 13
  },
  {
   "cell_type": "markdown",
   "source": [
    "Let us now explore what transitions have been created considering, for instance, the state `x`=[1.1  1.3] and the input `u`=-1. First, let us pin point the cell in the grid\n",
    "associated with this state and this input. The method `get_pos_by_coord` returns a tuple of integers defining the indices of a cell coontaining a given coordinate."
   ],
   "metadata": {}
  },
  {
   "outputs": [
    {
     "output_type": "execute_result",
     "data": {
      "text/plain": "(-5,)"
     },
     "metadata": {},
     "execution_count": 14
    }
   ],
   "cell_type": "code",
   "source": [
    "xpos = AB.get_pos_by_coord(Xgrid, SVector(1.1, 1.3))\n",
    "upos = AB.get_pos_by_coord(Ugrid, SVector(-1))"
   ],
   "metadata": {},
   "execution_count": 14
  },
  {
   "cell_type": "markdown",
   "source": [
    "On the other hand, `get_coord_by_pos` returns the coordinates of the center of a cell defined by its indices."
   ],
   "metadata": {}
  },
  {
   "outputs": [
    {
     "output_type": "execute_result",
     "data": {
      "text/plain": "1-element StaticArrays.SVector{1, Float64} with indices SOneTo(1):\n -1.0"
     },
     "metadata": {},
     "execution_count": 15
    }
   ],
   "cell_type": "code",
   "source": [
    "x = AB.get_coord_by_pos(Xgrid, xpos)\n",
    "u = AB.get_coord_by_pos(Ugrid, upos)"
   ],
   "metadata": {},
   "execution_count": 15
  },
  {
   "cell_type": "markdown",
   "source": [
    "Now we create the vector `post` to receive the number of all the cells that are in the Post of `x` under `u`."
   ],
   "metadata": {}
  },
  {
   "outputs": [],
   "cell_type": "code",
   "source": [
    "post = Int[]\n",
    "AB.compute_post!(post, symmodel.autom, symmodel.xpos2int[xpos], symmodel.upos2int[upos])"
   ],
   "metadata": {},
   "execution_count": 16
  },
  {
   "cell_type": "markdown",
   "source": [
    "It is important to highlight the differences between `xpos` and the elements of `post`. The Tuple `xpos`\n",
    "contains information about a cell with respect to the grid `Xgrid` whereas the elements of `post` are Int's\n",
    "containing an internal code of each cell added to the Symbolic Model `symmodel`. To alterante between the\n",
    "two different representations we use the dictionaries `xint2pos` and `xpos2int`. Similarly, the same can be said\n",
    "about `upos`. That said, we can build a domain of Post of `xpos` under `upos` as following:"
   ],
   "metadata": {}
  },
  {
   "outputs": [],
   "cell_type": "code",
   "source": [
    "domainPostx = AB.DomainList(Xgrid);\n",
    "for pos in symmodel.xint2pos[post]\n",
    "    AB.add_pos!(domainPostx,pos)\n",
    "end"
   ],
   "metadata": {},
   "execution_count": 17
  },
  {
   "cell_type": "markdown",
   "source": [
    "Let us visualize this"
   ],
   "metadata": {}
  },
  {
   "outputs": [
    {
     "output_type": "execute_result",
     "data": {
      "text/plain": "PyObject <matplotlib.collections.PolyCollection object at 0x7f03fca318e0>"
     },
     "metadata": {},
     "execution_count": 18
    }
   ],
   "cell_type": "code",
   "source": [
    "fig = PyPlot.figure()\n",
    "\n",
    "ax = PyPlot.axes(aspect = \"equal\")\n",
    "ax.set_xlim(-2, 2)\n",
    "ax.set_ylim(-2, 2)\n",
    "\n",
    "vars = [1, 2];\n",
    "Plot.domain!(ax, vars, domainX, fc = \"white\")\n",
    "Plot.cell!(ax, vars, Xgrid, xpos, fc = \"blue\")\n",
    "Plot.domain!(ax, vars, domainPostx, fc = \"green\")"
   ],
   "metadata": {},
   "execution_count": 18
  },
  {
   "cell_type": "markdown",
   "source": [
    "In the previous picture, we have the state space lattice in white, the chosen cell `xpos` in blue and\n",
    "the corresponding Post domain in green. The argument `vars` given to the Plot functions refer to the projection\n",
    "of the state space onto the subspace of variables 1 and 2. In this case this is an identity mapping but for\n",
    "higher-order systems, this projection is useful to visualize the behavior of the system on a 2-dimensional space."
   ],
   "metadata": {}
  },
  {
   "cell_type": "markdown",
   "source": [
    "---\n",
    "\n",
    "*This notebook was generated using [Literate.jl](https://github.com/fredrikekre/Literate.jl).*"
   ],
   "metadata": {}
  }
 ],
 "nbformat_minor": 3,
 "metadata": {
  "language_info": {
   "file_extension": ".jl",
   "mimetype": "application/julia",
   "name": "julia",
   "version": "1.6.3"
  },
  "kernelspec": {
   "name": "julia-1.6",
   "display_name": "Julia 1.6.3",
   "language": "julia"
  }
 },
 "nbformat": 4
}
